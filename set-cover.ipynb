{
 "cells": [
  {
   "cell_type": "markdown",
   "metadata": {},
   "source": [
    "Copyright **`(c)`** 2024 Giovanni Squillero `<giovanni.squillero@polito.it>`  \n",
    "[`https://github.com/squillero/computational-intelligence`](https://github.com/squillero/computational-intelligence)  \n",
    "Free for personal or classroom use; see [`LICENSE.md`](https://github.com/squillero/computational-intelligence/blob/master/LICENSE.md) for details.  "
   ]
  },
  {
   "cell_type": "markdown",
   "metadata": {},
   "source": [
    "# Set Cover problem\n",
    "\n",
    "See: https://en.wikipedia.org/wiki/Set_cover_problem"
   ]
  },
  {
   "cell_type": "code",
   "execution_count": 138,
   "metadata": {},
   "outputs": [
    {
     "data": {
      "text/plain": [
       "0"
      ]
     },
     "execution_count": 138,
     "metadata": {},
     "output_type": "execute_result"
    }
   ],
   "source": [
    "import gc\n",
    "gc.collect()"
   ]
  },
  {
   "cell_type": "code",
   "execution_count": 139,
   "metadata": {},
   "outputs": [],
   "source": [
    "import functools\n",
    "from random import random, seed\n",
    "from itertools import product\n",
    "import numpy as np\n",
    "import math\n",
    "\n",
    "from icecream import ic\n",
    "#from tqdm.auto import tqdm"
   ]
  },
  {
   "cell_type": "markdown",
   "metadata": {},
   "source": [
    "## Reproducible Initialization\n",
    "\n",
    "If you want to get reproducible results, use `rng` (and restart the kernel); for non-reproducible ones, use `np.random`."
   ]
  },
  {
   "cell_type": "code",
   "execution_count": 247,
   "metadata": {},
   "outputs": [],
   "source": [
    "UNIVERSE_SIZE = 100000\n",
    "NUM_SETS = 10000\n",
    "DENSITY = 0.3\n",
    "MAX_STEPS = 1_000\n",
    "\n",
    "rng = np.random.Generator(np.random.PCG64([UNIVERSE_SIZE, NUM_SETS, int(10_000 * DENSITY)]))"
   ]
  },
  {
   "cell_type": "code",
   "execution_count": 248,
   "metadata": {},
   "outputs": [],
   "source": [
    "# DON'T EDIT THESE LINES!\n",
    "\n",
    "SETS = np.random.random((NUM_SETS, UNIVERSE_SIZE)) < DENSITY\n",
    "for s in range(UNIVERSE_SIZE):\n",
    "    if not np.any(SETS[:, s]):\n",
    "        SETS[np.random.randint(NUM_SETS), s] = True\n",
    "COSTS = np.pow(SETS.sum(axis=1), 1.1)\n",
    "\n",
    "\n",
    "def counter(fn):\n",
    "    \"\"\"Simple decorator for counting number of calls\"\"\"\n",
    "\n",
    "    @functools.wraps(fn)\n",
    "    def helper(*args, **kargs):\n",
    "        helper.calls += 1\n",
    "        return fn(*args, **kargs)\n",
    "\n",
    "    helper.calls = 0\n",
    "    return helper\n",
    "\n",
    "@counter\n",
    "def cost(solution):\n",
    "    \"\"\"Returns the cost of a solution (to be minimized) tracking number of calls\"\"\"\n",
    "    return COSTS[solution].sum()"
   ]
  },
  {
   "cell_type": "markdown",
   "metadata": {},
   "source": [
    "## Helper Functions"
   ]
  },
  {
   "cell_type": "code",
   "execution_count": 249,
   "metadata": {},
   "outputs": [],
   "source": [
    "def valid(solution):\n",
    "    \"\"\"Checks wether solution is valid (ie. covers all universe)\"\"\"\n",
    "    coverage = np.logical_or.reduce(SETS[solution])\n",
    "    is_valid = np.all(coverage)\n",
    "    return is_valid\n",
    "\n",
    "\n",
    "def cost(solution):\n",
    "    \"\"\"Returns the cost of a solution (to be minimized)\"\"\"\n",
    "    return COSTS[solution].sum()"
   ]
  },
  {
   "cell_type": "markdown",
   "metadata": {},
   "source": [
    "## Have Fun!"
   ]
  },
  {
   "cell_type": "code",
   "execution_count": 250,
   "metadata": {},
   "outputs": [
    {
     "data": {
      "text/plain": [
       "(np.True_, np.float64(841073050.1508384))"
      ]
     },
     "execution_count": 250,
     "metadata": {},
     "output_type": "execute_result"
    }
   ],
   "source": [
    "# A dumb solution of \"all\" sets\n",
    "solution = np.full(NUM_SETS, True)\n",
    "valid(solution), cost(solution)\n",
    "#ic(solution)"
   ]
  },
  {
   "cell_type": "code",
   "execution_count": 251,
   "metadata": {},
   "outputs": [
    {
     "data": {
      "text/plain": [
       "(np.True_, np.float64(841073050.1508384))"
      ]
     },
     "execution_count": 251,
     "metadata": {},
     "output_type": "execute_result"
    }
   ],
   "source": [
    "# A random solution with random 50% of the sets\n",
    "solution = rng.random(NUM_SETS) < 1\n",
    "valid(solution), cost(solution)\n",
    "#ic(solution)\n"
   ]
  },
  {
   "cell_type": "code",
   "execution_count": 252,
   "metadata": {},
   "outputs": [],
   "source": [
    "# Start with all sets taken\n",
    "#initial_solution = np.full(NUM_SETS, True)\n",
    "\n",
    "solution = rng.random(NUM_SETS) < 1\n",
    "# ic(initial_solution)"
   ]
  },
  {
   "cell_type": "markdown",
   "metadata": {},
   "source": [
    "## Helpers\n"
   ]
  },
  {
   "cell_type": "code",
   "execution_count": 253,
   "metadata": {},
   "outputs": [],
   "source": [
    "def tweak(solution):\n",
    "    new_solution = np.copy(solution)\n",
    "    pos = rng.integers(low=0, high=NUM_SETS)\n",
    "    new_solution[pos] = not solution[pos]\n",
    "    return new_solution\n",
    "\n",
    "def multiple_mutation(solution: np.ndarray) -> np.ndarray:\n",
    "    new_sol = solution.copy()\n",
    "    mask = rng.random(NUM_SETS) < 0.05\n",
    "    new_sol = np.logical_xor(solution, mask)\n",
    "    return new_sol\n",
    "\n",
    "def fitness(solution):\n",
    "    return (valid(solution), -cost(solution))"
   ]
  },
  {
   "cell_type": "markdown",
   "metadata": {},
   "source": [
    "## Random Mutation Hill Climber"
   ]
  },
  {
   "cell_type": "code",
   "execution_count": 254,
   "metadata": {},
   "outputs": [
    {
     "name": "stderr",
     "output_type": "stream",
     "text": [
      "ic| fitness(solution): (np.True_, np.float64(-841073050.1508384))\n",
      "ic| steps: 1000\n"
     ]
    },
    {
     "data": {
      "text/plain": [
       "(np.True_, np.float64(-765056846.9102377))"
      ]
     },
     "execution_count": 254,
     "metadata": {},
     "output_type": "execute_result"
    }
   ],
   "source": [
    "solution = rng.random(NUM_SETS) < 1\n",
    "solution_fitness = fitness(solution)\n",
    "ic(fitness(solution))\n",
    "if (UNIVERSE_SIZE < 1000 and NUM_SETS < 100):\n",
    "    steps = MAX_STEPS*1000\n",
    "    ic(steps)\n",
    "else:\n",
    "    steps = MAX_STEPS\n",
    "    ic(steps)\n",
    "for _ in range(steps):\n",
    "    new_solution = tweak(solution)\n",
    "    new_fitness = fitness(new_solution)\n",
    "    if new_fitness > solution_fitness:\n",
    "        solution = new_solution\n",
    "\n",
    "fitness(solution)\n",
    "# ic(current_solution)"
   ]
  },
  {
   "cell_type": "markdown",
   "metadata": {},
   "source": [
    "## Simulated Annealing"
   ]
  },
  {
   "cell_type": "code",
   "execution_count": 255,
   "metadata": {},
   "outputs": [],
   "source": [
    "INITIAL_TEMPERATURE = 1000  \n",
    "COOLING_RATE = 0.995 \n",
    "MIN_TEMPERATURE = 1e-4 \n"
   ]
  },
  {
   "cell_type": "code",
   "execution_count": 256,
   "metadata": {},
   "outputs": [
    {
     "name": "stderr",
     "output_type": "stream",
     "text": [
      "ic| solution_fitness: (np.True_, np.float64(-841073050.1508384))\n",
      "ic| fitness(solution): (np.True_, np.float64(-379306610.56588715))\n"
     ]
    }
   ],
   "source": [
    "\n",
    "solution = rng.random(NUM_SETS) < 1\n",
    "solution_fitness = fitness(solution)\n",
    "ic(solution_fitness)\n",
    "#ic(fitness(solution))\n",
    "temperature = INITIAL_TEMPERATURE\n",
    "\n",
    "for _ in range(min(steps,MAX_STEPS)):\n",
    "    #if temperature <= MIN_TEMPERATURE:\n",
    "    #    break\n",
    "\n",
    "    new_solution = multiple_mutation(solution)\n",
    "    new_fitness = fitness(new_solution)\n",
    "    #ic(new_fitness)\n",
    "\n",
    "    if valid(new_solution) & (new_fitness[1] > solution_fitness[1] or np.exp((new_fitness[1]-solution_fitness[1]) / temperature) > rng.random()):\n",
    "        solution = new_solution\n",
    "        solution_fitness = new_fitness\n",
    "\n",
    "    temperature *= COOLING_RATE\n",
    "\n",
    "ic(fitness(solution))\n",
    "None"
   ]
  }
 ],
 "metadata": {
  "kernelspec": {
   "display_name": "Python 3.13.1 (pyenv)",
   "language": "python",
   "name": "pyenv-3.13.1"
  },
  "language_info": {
   "codemirror_mode": {
    "name": "ipython",
    "version": 3
   },
   "file_extension": ".py",
   "mimetype": "text/x-python",
   "name": "python",
   "nbconvert_exporter": "python",
   "pygments_lexer": "ipython3",
   "version": "3.13.1"
  }
 },
 "nbformat": 4,
 "nbformat_minor": 4
}
